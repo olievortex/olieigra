{
 "cells": [
  {
   "cell_type": "markdown",
   "metadata": {},
   "source": [
    "# Download Docs\n",
    "This notebook downloads documentation from the IGRA2 website.\n",
    "\n",
    "- igra2-station-list.txt - The data in this file allows us to identify which station ids we are interested in\n",
    "- igra2-list-format.txt - Documents the data structure of igra2-station-list.txt\n",
    "- igra2-data-format.txt - Documents the data structure of the data files\n",
    "\n",
    "Update the following parameters in the first cell to accomodate your installation:\n",
    "\n",
    "- DST_PATH - The location to download the files into"
   ]
  },
  {
   "cell_type": "code",
   "execution_count": 1,
   "metadata": {},
   "outputs": [],
   "source": [
    "import os\n",
    "import requests\n",
    "\n",
    "SRC_PATH = 'https://www.ncei.noaa.gov/data/integrated-global-radiosonde-archive/doc'\n",
    "DST_PATH = '/lakehouse/default/Files/bronze/igra2/doc'\n",
    "FILES = ['igra2-station-list.txt', 'igra2-data-format.txt', 'igra2-list-format.txt']"
   ]
  },
  {
   "cell_type": "code",
   "execution_count": 2,
   "metadata": {},
   "outputs": [],
   "source": [
    "# Make sure the destination path exists\n",
    "os.makedirs(DST_PATH, exist_ok=True)"
   ]
  },
  {
   "cell_type": "code",
   "execution_count": 3,
   "metadata": {},
   "outputs": [
    {
     "name": "stdout",
     "output_type": "stream",
     "text": [
      "Downloaded: igra2-station-list.txt\n",
      "Downloaded: igra2-data-format.txt\n",
      "Downloaded: igra2-list-format.txt\n"
     ]
    }
   ],
   "source": [
    "# Loop through the list of files\n",
    "for filename in FILES:\n",
    "    src = f'{SRC_PATH}/{filename}'\n",
    "    dst = f'{DST_PATH}/{filename}'\n",
    "\n",
    "    # If the file already exists, don't download it again\n",
    "    if os.path.exists(dst):\n",
    "        print(f\"File exists: {filename}\")\n",
    "        continue\n",
    "\n",
    "    # Download the file\n",
    "    with requests.get(src) as r:\n",
    "        open(dst, 'wb').write(r.content)\n",
    "\n",
    "    print(f\"Downloaded: {filename}\")"
   ]
  },
  {
   "cell_type": "code",
   "execution_count": null,
   "metadata": {},
   "outputs": [],
   "source": []
  }
 ],
 "metadata": {
  "kernelspec": {
   "display_name": "olieigra_test",
   "language": "python",
   "name": "python3"
  },
  "language_info": {
   "codemirror_mode": {
    "name": "ipython",
    "version": 3
   },
   "file_extension": ".py",
   "mimetype": "text/x-python",
   "name": "python",
   "nbconvert_exporter": "python",
   "pygments_lexer": "ipython3",
   "version": "3.11.5"
  }
 },
 "nbformat": 4,
 "nbformat_minor": 2
}
