{
 "cells": [
  {
   "cell_type": "markdown",
   "metadata": {},
   "source": [
    "# Transform Station List\n",
    "The raw station list is in an inconvenient format. This notebook uses Pandas to transform it into a format that will allow for the structure to be inferred, reducing our workload.\n",
    "\n",
    "Update the following parameters in the first cell to accomodate your installation:\n",
    "\n",
    "- BRONZE_STATION_LIST_PATH - The location of the raw igra2-station-list.txt file\n",
    "- SILVER_STATION_LIST_PATH - The location to save the CSV version of the file"
   ]
  },
  {
   "cell_type": "code",
   "execution_count": 1,
   "metadata": {},
   "outputs": [],
   "source": [
    "import os\n",
    "import pandas as pd\n",
    "\n",
    "BRONZE_STATION_LIST_PATH = '/Users/olievortex/lakehouse/default/Files/bronze/igra2/doc/igra2-station-list.txt'\n",
    "SILVER_STATION_LIST_PATH = '/Users/olievortex/lakehouse/default/Files/silver/igra2/doc/igra2-station-list.csv'"
   ]
  },
  {
   "cell_type": "code",
   "execution_count": 2,
   "metadata": {},
   "outputs": [
    {
     "name": "stdout",
     "output_type": "stream",
     "text": [
      "Output folder: /Users/olievortex/lakehouse/default/Files/silver/igra2/doc\n"
     ]
    }
   ],
   "source": [
    "# Get the path without the filename\n",
    "dest_path = '/'.join(SILVER_STATION_LIST_PATH.replace('\\\\', '/').split('/')[:-1]) \n",
    "print(f'Output folder: {dest_path}')\n",
    "\n",
    "# Make sure the destination path exists\n",
    "os.makedirs(dest_path, exist_ok=True)\n",
    "\n",
    "# Variable not needed anymore\n",
    "del dest_path"
   ]
  },
  {
   "cell_type": "code",
   "execution_count": 3,
   "metadata": {},
   "outputs": [],
   "source": [
    "# Define the fixed width intervals\n",
    "colspecs = [\n",
    "    (0, 11),        # id\n",
    "    (12, 20),       # latitude\n",
    "    (21, 30),       # longitude\n",
    "    (31, 37),       # elevation\n",
    "    (38, 40),       # state\n",
    "    (41, 71),       # name\n",
    "    (72, 76),       # fstyear\n",
    "    (77, 81),       # lstyear\n",
    "    (82, 88)        # nobs\n",
    "]\n",
    "\n",
    "# There's no header row so we must specify our own column names\n",
    "names = ['id', 'latitude', 'longitude', 'elevation', 'state', 'name', 'fst_year', 'lst_year', 'nobs']"
   ]
  },
  {
   "cell_type": "code",
   "execution_count": 4,
   "metadata": {},
   "outputs": [],
   "source": [
    "# read_fwf is the fixed width file reader for Pandas. The colspecs parameter specifies the fixed column\n",
    "# ranges. The names parameter specifies the column names. Passing header=None tells Pandas the first\n",
    "# row contains data, not column names.\n",
    "df = pd.read_fwf(BRONZE_STATION_LIST_PATH, colspecs=colspecs, header=None, names=names, index_col=0)"
   ]
  },
  {
   "cell_type": "code",
   "execution_count": 5,
   "metadata": {},
   "outputs": [
    {
     "name": "stdout",
     "output_type": "stream",
     "text": [
      "<class 'pandas.core.frame.DataFrame'>\n",
      "Index: 2879 entries, ACM00078861 to ZZXUAICE031\n",
      "Data columns (total 8 columns):\n",
      " #   Column     Non-Null Count  Dtype  \n",
      "---  ------     --------------  -----  \n",
      " 0   latitude   2879 non-null   float64\n",
      " 1   longitude  2879 non-null   float64\n",
      " 2   elevation  2879 non-null   float64\n",
      " 3   state      562 non-null    object \n",
      " 4   name       2879 non-null   object \n",
      " 5   fst_year   2879 non-null   int64  \n",
      " 6   lst_year   2879 non-null   int64  \n",
      " 7   nobs       2879 non-null   int64  \n",
      "dtypes: float64(3), int64(3), object(2)\n",
      "memory usage: 202.4+ KB\n"
     ]
    }
   ],
   "source": [
    "# Confirm the data types are correct (they are)\n",
    "df.info()"
   ]
  },
  {
   "cell_type": "code",
   "execution_count": 6,
   "metadata": {},
   "outputs": [
    {
     "data": {
      "text/html": [
       "<div>\n",
       "<style scoped>\n",
       "    .dataframe tbody tr th:only-of-type {\n",
       "        vertical-align: middle;\n",
       "    }\n",
       "\n",
       "    .dataframe tbody tr th {\n",
       "        vertical-align: top;\n",
       "    }\n",
       "\n",
       "    .dataframe thead th {\n",
       "        text-align: right;\n",
       "    }\n",
       "</style>\n",
       "<table border=\"1\" class=\"dataframe\">\n",
       "  <thead>\n",
       "    <tr style=\"text-align: right;\">\n",
       "      <th></th>\n",
       "      <th>latitude</th>\n",
       "      <th>longitude</th>\n",
       "      <th>elevation</th>\n",
       "      <th>state</th>\n",
       "      <th>name</th>\n",
       "      <th>fst_year</th>\n",
       "      <th>lst_year</th>\n",
       "      <th>nobs</th>\n",
       "    </tr>\n",
       "    <tr>\n",
       "      <th>id</th>\n",
       "      <th></th>\n",
       "      <th></th>\n",
       "      <th></th>\n",
       "      <th></th>\n",
       "      <th></th>\n",
       "      <th></th>\n",
       "      <th></th>\n",
       "      <th></th>\n",
       "    </tr>\n",
       "  </thead>\n",
       "  <tbody>\n",
       "    <tr>\n",
       "      <th>ACM00078861</th>\n",
       "      <td>17.1170</td>\n",
       "      <td>-61.7830</td>\n",
       "      <td>10.0</td>\n",
       "      <td>NaN</td>\n",
       "      <td>COOLIDGE FIELD (UA)</td>\n",
       "      <td>1947</td>\n",
       "      <td>1993</td>\n",
       "      <td>13896</td>\n",
       "    </tr>\n",
       "    <tr>\n",
       "      <th>AEM00041217</th>\n",
       "      <td>24.4333</td>\n",
       "      <td>54.6500</td>\n",
       "      <td>16.0</td>\n",
       "      <td>NaN</td>\n",
       "      <td>ABU DHABI INTERNATIONAL AIRPOR</td>\n",
       "      <td>1983</td>\n",
       "      <td>2024</td>\n",
       "      <td>39914</td>\n",
       "    </tr>\n",
       "    <tr>\n",
       "      <th>AEXUAE05467</th>\n",
       "      <td>25.2500</td>\n",
       "      <td>55.3700</td>\n",
       "      <td>4.0</td>\n",
       "      <td>NaN</td>\n",
       "      <td>SHARJAH</td>\n",
       "      <td>1935</td>\n",
       "      <td>1942</td>\n",
       "      <td>2477</td>\n",
       "    </tr>\n",
       "    <tr>\n",
       "      <th>AFM00040911</th>\n",
       "      <td>36.7000</td>\n",
       "      <td>67.2000</td>\n",
       "      <td>378.0</td>\n",
       "      <td>NaN</td>\n",
       "      <td>MAZAR-I-SHARIF</td>\n",
       "      <td>2010</td>\n",
       "      <td>2014</td>\n",
       "      <td>2179</td>\n",
       "    </tr>\n",
       "    <tr>\n",
       "      <th>AFM00040913</th>\n",
       "      <td>36.6667</td>\n",
       "      <td>68.9167</td>\n",
       "      <td>433.0</td>\n",
       "      <td>NaN</td>\n",
       "      <td>KUNDUZ</td>\n",
       "      <td>2010</td>\n",
       "      <td>2013</td>\n",
       "      <td>4540</td>\n",
       "    </tr>\n",
       "  </tbody>\n",
       "</table>\n",
       "</div>"
      ],
      "text/plain": [
       "             latitude  longitude  elevation state  \\\n",
       "id                                                  \n",
       "ACM00078861   17.1170   -61.7830       10.0   NaN   \n",
       "AEM00041217   24.4333    54.6500       16.0   NaN   \n",
       "AEXUAE05467   25.2500    55.3700        4.0   NaN   \n",
       "AFM00040911   36.7000    67.2000      378.0   NaN   \n",
       "AFM00040913   36.6667    68.9167      433.0   NaN   \n",
       "\n",
       "                                       name  fst_year  lst_year   nobs  \n",
       "id                                                                      \n",
       "ACM00078861             COOLIDGE FIELD (UA)      1947      1993  13896  \n",
       "AEM00041217  ABU DHABI INTERNATIONAL AIRPOR      1983      2024  39914  \n",
       "AEXUAE05467                         SHARJAH      1935      1942   2477  \n",
       "AFM00040911                  MAZAR-I-SHARIF      2010      2014   2179  \n",
       "AFM00040913                          KUNDUZ      2010      2013   4540  "
      ]
     },
     "execution_count": 6,
     "metadata": {},
     "output_type": "execute_result"
    }
   ],
   "source": [
    "# View a sampling for sanity checks (it is sane). Many records have a null state field, so NaN is expected.\n",
    "df.head()"
   ]
  },
  {
   "cell_type": "code",
   "execution_count": 7,
   "metadata": {},
   "outputs": [
    {
     "data": {
      "text/plain": [
       "latitude         42.0333\n",
       "longitude       -70.0333\n",
       "elevation           42.1\n",
       "state                 MA\n",
       "name         NORTH TRURO\n",
       "fst_year            1944\n",
       "lst_year            1946\n",
       "nobs                1581\n",
       "Name: USW00094730, dtype: object"
      ]
     },
     "execution_count": 7,
     "metadata": {},
     "output_type": "execute_result"
    }
   ],
   "source": [
    "# Confirm that the state field is parsed correctly by viewing a row we know contains a value\n",
    "df.loc['USW00094730']"
   ]
  },
  {
   "cell_type": "code",
   "execution_count": 8,
   "metadata": {},
   "outputs": [],
   "source": [
    "# Save the dataframe as a CSV file\n",
    "df.to_csv(SILVER_STATION_LIST_PATH)"
   ]
  },
  {
   "cell_type": "code",
   "execution_count": null,
   "metadata": {},
   "outputs": [],
   "source": []
  }
 ],
 "metadata": {
  "kernelspec": {
   "display_name": "olieigra_test",
   "language": "python",
   "name": "python3"
  },
  "language_info": {
   "codemirror_mode": {
    "name": "ipython",
    "version": 3
   },
   "file_extension": ".py",
   "mimetype": "text/x-python",
   "name": "python",
   "nbconvert_exporter": "python",
   "pygments_lexer": "ipython3",
   "version": "3.11.8"
  }
 },
 "nbformat": 4,
 "nbformat_minor": 2
}
