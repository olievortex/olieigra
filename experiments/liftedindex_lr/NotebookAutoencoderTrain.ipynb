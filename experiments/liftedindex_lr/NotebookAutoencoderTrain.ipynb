{
 "cells": [
  {
   "cell_type": "code",
   "execution_count": 1,
   "metadata": {},
   "outputs": [],
   "source": [
    "import pandas as pd\n",
    "import pickle\n",
    "import torch\n",
    "\n",
    "from sklearn.metrics import r2_score\n",
    "from sklearn.model_selection import train_test_split\n",
    "from sklearn.preprocessing import MinMaxScaler\n",
    "\n",
    "GOLD_PARQUET_PATH = '/Users/olievortex/lakehouse/default/Files/gold/igra2/liftedindex_lr'\n",
    "ARTIFACTS_PATH = '/Users/olievortex/lakehouse/default/Files/gold/igra2/artifacts'\n",
    "\n",
    "batch_size = 32\n",
    "epochs = 16\n",
    "learning_rate = 0.001\n",
    "learning_rate_gamma = 0.90"
   ]
  },
  {
   "cell_type": "code",
   "execution_count": 2,
   "metadata": {},
   "outputs": [
    {
     "name": "stdout",
     "output_type": "stream",
     "text": [
      "Training size: 34,140,648\n",
      "Predict size: 8,535,162\n",
      "Feature count: 127\n"
     ]
    }
   ],
   "source": [
    "def load_dataset():\n",
    "    X = pd.read_parquet(GOLD_PARQUET_PATH)\n",
    "\n",
    "    # Remove irrelevant data\n",
    "    X = X.drop(['id', 'effective_date', 'hour', 'li'], axis=1)\n",
    "    \n",
    "    # Scale the X dataset\n",
    "    ss = MinMaxScaler() \n",
    "    X = ss.fit_transform(X)\n",
    "\n",
    "    with open(f'{ARTIFACTS_PATH}/ae_min_max_scaler.pkl', 'wb') as f:\n",
    "        pickle.dump(ss, f)\n",
    "    \n",
    "    return train_test_split(X, X, test_size=0.2)\n",
    "\n",
    "x_train, x_test, _, _ = load_dataset()\n",
    "print (f\"Training size: {x_train.size:,}\")\n",
    "print (f\"Predict size: {x_test.size:,}\")\n",
    "print (f\"Feature count: {len(x_train[0])}\")\n",
    "\n",
    "x_train = torch.from_numpy(x_train).float()\n",
    "x_test = torch.from_numpy(x_test).float()\n",
    "y_test = x_test.numpy()\n",
    "n_batches = x_train.size()[0] // batch_size"
   ]
  },
  {
   "cell_type": "code",
   "execution_count": 3,
   "metadata": {},
   "outputs": [],
   "source": [
    "class AutoEncoder(torch.nn.Module):\n",
    "    def __init__(self):\n",
    "        super().__init__()\n",
    "        \n",
    "        self.encoder = torch.nn.Sequential(\n",
    "            torch.nn.Linear(127, 96),\n",
    "            torch.nn.ReLU(),\n",
    "            torch.nn.Linear(96, 64)\n",
    "        )\n",
    "\n",
    "        self.decoder = torch.nn.Sequential(\n",
    "            torch.nn.Linear(64, 96),\n",
    "            torch.nn.ReLU(),\n",
    "            torch.nn.Linear(96, 127),\n",
    "            torch.nn.Sigmoid()\n",
    "        )\n",
    "\n",
    "    def forward(self, x):\n",
    "        encoded = self.encoder(x)\n",
    "        decoded = self.decoder(encoded)\n",
    "\n",
    "        return decoded\n",
    "    \n",
    "model = AutoEncoder()\n",
    "optimizer = torch.optim.Adam(model.parameters(), learning_rate)\n",
    "scheduler = torch.optim.lr_scheduler.ExponentialLR(optimizer, gamma=learning_rate_gamma)\n",
    "loss_function = torch.nn.MSELoss()"
   ]
  },
  {
   "cell_type": "code",
   "execution_count": 4,
   "metadata": {},
   "outputs": [
    {
     "name": "stdout",
     "output_type": "stream",
     "text": [
      "Epoch: 1, cost: 0.0014, acc: 0.767, lr: 9.00e-04\n",
      "Epoch: 2, cost: 0.0004, acc: 0.761, lr: 8.10e-04\n",
      "Epoch: 3, cost: 0.0003, acc: 0.743, lr: 7.29e-04\n",
      "Epoch: 4, cost: 0.0002, acc: 0.744, lr: 6.56e-04\n",
      "Epoch: 5, cost: 0.0002, acc: 0.751, lr: 5.90e-04\n",
      "Epoch: 6, cost: 0.0002, acc: 0.759, lr: 5.31e-04\n",
      "Epoch: 7, cost: 0.0002, acc: 0.765, lr: 4.78e-04\n",
      "Epoch: 8, cost: 0.0001, acc: 0.765, lr: 4.30e-04\n",
      "Epoch: 9, cost: 0.0001, acc: 0.766, lr: 3.87e-04\n",
      "Epoch: 10, cost: 0.0001, acc: 0.764, lr: 3.49e-04\n",
      "Epoch: 11, cost: 0.0001, acc: 0.765, lr: 3.14e-04\n",
      "Epoch: 12, cost: 0.0001, acc: 0.767, lr: 2.82e-04\n",
      "Epoch: 13, cost: 0.0001, acc: 0.766, lr: 2.54e-04\n",
      "Epoch: 14, cost: 0.0001, acc: 0.765, lr: 2.29e-04\n",
      "Epoch: 15, cost: 0.0001, acc: 0.765, lr: 2.06e-04\n",
      "Epoch: 16, cost: 0.0001, acc: 0.765, lr: 1.85e-04\n"
     ]
    }
   ],
   "source": [
    "def train(model, loss, optimizer, inputs, labels):\n",
    "    optimizer.zero_grad()\n",
    "\n",
    "    logits = model.forward(inputs)\n",
    "    output = loss.forward(logits, labels)\n",
    "    output.backward()\n",
    "    optimizer.step()\n",
    "\n",
    "    return output.item()\n",
    "\n",
    "def predict(model, inputs):\n",
    "    logits = model.forward(inputs)\n",
    "    return logits.data\n",
    "\n",
    "def train_orch():\n",
    "    for epoch in range(epochs):\n",
    "        cost = 0\n",
    "        loader = torch.utils.data.DataLoader(dataset = x_train,\n",
    "                                             batch_size = batch_size,\n",
    "                                             shuffle = True)\n",
    "\n",
    "        for batch in loader:\n",
    "            cost += train(model, loss_function, optimizer, batch, batch)\n",
    "\n",
    "        y_pred = predict(model, x_test)\n",
    "        acc = r2_score(y_pred.numpy(), y_test)\n",
    "        scheduler.step()\n",
    "\n",
    "        print(f\"Epoch: {epoch+1}, cost: {cost / n_batches:.4f}, acc: {acc:.3f}, lr: {scheduler.get_last_lr()[0]:.2e}\")\n",
    "\n",
    "train_orch()"
   ]
  },
  {
   "cell_type": "code",
   "execution_count": 5,
   "metadata": {},
   "outputs": [],
   "source": [
    "torch.save(model.state_dict(), f'{ARTIFACTS_PATH}/ae_fnn.pt')"
   ]
  },
  {
   "cell_type": "code",
   "execution_count": null,
   "metadata": {},
   "outputs": [],
   "source": []
  }
 ],
 "metadata": {
  "kernelspec": {
   "display_name": "ml",
   "language": "python",
   "name": "python3"
  },
  "language_info": {
   "codemirror_mode": {
    "name": "ipython",
    "version": 3
   },
   "file_extension": ".py",
   "mimetype": "text/x-python",
   "name": "python",
   "nbconvert_exporter": "python",
   "pygments_lexer": "ipython3",
   "version": "3.11.8"
  },
  "orig_nbformat": 4
 },
 "nbformat": 4,
 "nbformat_minor": 2
}
