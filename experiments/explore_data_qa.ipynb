{
 "cells": [
  {
   "cell_type": "markdown",
   "metadata": {},
   "source": [
    "# Explore Data\n"
   ]
  },
  {
   "cell_type": "code",
   "execution_count": 2,
   "metadata": {},
   "outputs": [],
   "source": [
    "import glob\n",
    "import pandas as pd\n",
    "\n",
    "SILVER_QA_PATH = '/lakehouse/default/Files/silver/igra2/qa'"
   ]
  },
  {
   "cell_type": "code",
   "execution_count": 12,
   "metadata": {},
   "outputs": [],
   "source": [
    "# Get CSV files list from a folder\n",
    "csv_files = glob.glob(SILVER_QA_PATH + \"/*.csv\")\n",
    "\n",
    "# Read each CSV file into DataFrame\n",
    "# This creates a list of dataframes\n",
    "df_list = (pd.read_csv(file) for file in csv_files)\n",
    "\n",
    "# Pandas doesn't like to concatinate \"empty\" DataFrames\n",
    "df_list = [dataframe for dataframe in df_list if dataframe.shape[0] > 0]\n",
    "\n",
    "# Concatenate all DataFrames\n",
    "df = pd.concat(df_list, ignore_index=True)\n",
    "\n",
    "del df_list"
   ]
  },
  {
   "cell_type": "code",
   "execution_count": 13,
   "metadata": {},
   "outputs": [
    {
     "name": "stdout",
     "output_type": "stream",
     "text": [
      "Total Observation Count: 346607\n"
     ]
    }
   ],
   "source": [
    "print(f\"Total Observation Count: {df.shape[0]}\")"
   ]
  },
  {
   "cell_type": "code",
   "execution_count": 1,
   "metadata": {},
   "outputs": [
    {
     "name": "stderr",
     "output_type": "stream",
     "text": [
      "UsageError: Cell magic `%%sql` not found.\n"
     ]
    }
   ],
   "source": [
    "%%sql\n",
    "select sl.id, sl.name, sl.state, count(*) as station_rows\n",
    "from igra2_s_data_por_qa qa\n",
    "inner join igra2_s_station_list sl\n",
    "    on qa.id = sl.id\n",
    "group by sl.id, sl.name, sl.state\n",
    "order by 3 desc;"
   ]
  },
  {
   "cell_type": "code",
   "execution_count": null,
   "metadata": {},
   "outputs": [],
   "source": [
    "%%sql\n",
    "select hour, count(*) as obs_count, round(count(*) / (select count(*) from igra2_s_data_por_qa) * 100, 1) as pct\n",
    "from igra2_s_data_por_qa\n",
    "group by hour\n",
    "order by 2 desc, 1"
   ]
  },
  {
   "cell_type": "code",
   "execution_count": null,
   "metadata": {},
   "outputs": [],
   "source": [
    "%%sql\n",
    "select\n",
    "    l.name\n",
    "    ,round(avg(usable_10k), 1) as avg_usable_10k\n",
    "    ,round(avg(usable_10k) - std(usable_10k), 1) as usable_10k_68\n",
    "    ,round(avg(usable_10k) - 2.0 * std(usable_10k), 1) as usable_10k_95\n",
    "from igra2_s_data_por_qa qa\n",
    "inner join igra2_s_station_list l\n",
    "    on qa.id = l.id\n",
    "where hour = 12\n",
    "group by l.name\n",
    "order by avg_usable_10k desc"
   ]
  },
  {
   "cell_type": "code",
   "execution_count": null,
   "metadata": {},
   "outputs": [],
   "source": [
    "%%sql\n",
    "select\n",
    "    s.name\n",
    "    ,count(*) as total_count\n",
    "    ,sum(if(usable_10k < 20, 1, 0)) as thrown_out_count\n",
    "    ,round(sum(if(usable_10k < 20, 1, 0)) / count(*) * 100.0, 1) as pct\n",
    "from igra2_s_data_por_qa qa\n",
    "inner join igra2_s_station_list s\n",
    "    on s.id = qa.id\n",
    "where hour = 12\n",
    "group by s.name\n",
    "order by pct desc;"
   ]
  },
  {
   "cell_type": "code",
   "execution_count": null,
   "metadata": {},
   "outputs": [],
   "source": [
    "%%sql\n",
    "select\n",
    "    s.name as label\n",
    "    ,min(usable_10k) as whislo\n",
    "    ,percentile(usable_10k, 0.25) as q1\n",
    "    ,percentile(usable_10k, 0.5) as med\n",
    "    ,percentile(usable_10k, 0.75) as q3\n",
    "    ,max(usable_10k) as whishi\n",
    "from igra2_s_data_por_qa qa\n",
    "inner join igra2_s_station_list s on qa.id = s.id\n",
    "where hour = 12\n",
    "group by s.name\n",
    "order by med"
   ]
  },
  {
   "cell_type": "code",
   "execution_count": null,
   "metadata": {},
   "outputs": [],
   "source": [
    "df = spark.sql(\"\"\"select\n",
    "    s.name as label\n",
    "    ,min(usable_10k) as whislo\n",
    "    ,percentile(usable_10k, 0.25) as q1\n",
    "    ,percentile(usable_10k, 0.5) as med\n",
    "    ,percentile(usable_10k, 0.75) as q3\n",
    "    ,max(usable_10k) as whishi\n",
    "from igra2_s_data_por_qa qa\n",
    "inner join igra2_s_station_list s on qa.id = s.id\n",
    "where hour = 12\n",
    "group by s.name\n",
    "order by med\"\"\").toPandas()"
   ]
  },
  {
   "cell_type": "code",
   "execution_count": null,
   "metadata": {},
   "outputs": [],
   "source": [
    "boxes = []\n",
    "\n",
    "for index, row in df.iterrows():\n",
    "    boxes.append({\n",
    "        'label' : row.label,\n",
    "        'whislo': row.whislo,   # Bottom whisker position\n",
    "        'q1'    : row.q1,       # First quartile (25th percentile)\n",
    "        'med'   : row.med,      # Median         (50th percentile)\n",
    "        'q3'    : row.q3,       # Third quartile (75th percentile)\n",
    "        'whishi': row.whishi,   # Top whisker position\n",
    "        'fliers': []            # Outliers\n",
    "    })\n",
    "\n",
    "fig, ax = plt.subplots()\n",
    "ax.bxp(boxes, showfliers=False)\n",
    "ax.set_ylabel(\"usable_10k\")\n",
    "plt.xticks(rotation=90)"
   ]
  },
  {
   "cell_type": "code",
   "execution_count": null,
   "metadata": {},
   "outputs": [],
   "source": [
    "%%sql\n",
    "select\n",
    "    s.name\n",
    "    ,round(avg(max_gph) / 1000.0, 1) as avg_max_gph\n",
    "    ,round((avg(max_gph) - std(max_gph)) / 1000.0, 1) as gph_68\n",
    "    ,round((avg(max_gph) - 2.0 * std(max_gph)) / 1000.0, 1) as gph_95\n",
    "from igra2_s_data_por_qa qa\n",
    "inner join igra2_s_station_list s on s.id = qa.id\n",
    "group by s.name\n",
    "order by avg_max_gph desc"
   ]
  },
  {
   "cell_type": "code",
   "execution_count": null,
   "metadata": {},
   "outputs": [],
   "source": []
  }
 ],
 "metadata": {
  "kernelspec": {
   "display_name": "olieigra_test",
   "language": "python",
   "name": "python3"
  },
  "language_info": {
   "codemirror_mode": {
    "name": "ipython",
    "version": 3
   },
   "file_extension": ".py",
   "mimetype": "text/x-python",
   "name": "python",
   "nbconvert_exporter": "python",
   "pygments_lexer": "ipython3",
   "version": "3.11.5"
  }
 },
 "nbformat": 4,
 "nbformat_minor": 2
}
